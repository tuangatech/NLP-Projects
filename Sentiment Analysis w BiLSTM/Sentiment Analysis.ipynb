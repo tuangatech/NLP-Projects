{
 "cells": [
  {
   "cell_type": "markdown",
   "metadata": {},
   "source": [
    "## Introduction\n",
    "\n",
    "Sentiment analysis is a natural language processing (NLP) technique used to determine the emotional tone of text."
   ]
  },
  {
   "cell_type": "code",
   "execution_count": 4,
   "metadata": {},
   "outputs": [],
   "source": [
    "import torch\n",
    "import torch.nn as nn\n",
    "import torch.optim as optim\n",
    "from torch.utils.data import Dataset, DataLoader\n",
    "from transformers import AutoTokenizer\n",
    "import numpy as np\n",
    "import pandas as pd\n",
    "import re\n",
    "from tqdm import tqdm\n",
    "import matplotlib.pyplot as plt"
   ]
  },
  {
   "cell_type": "markdown",
   "metadata": {},
   "source": [
    "## Data Loading and Preprocessing"
   ]
  },
  {
   "cell_type": "code",
   "execution_count": 5,
   "metadata": {},
   "outputs": [
    {
     "name": "stdout",
     "output_type": "stream",
     "text": [
      "1 - an absolute masterpiece: I am quite sure any of you actually taking the time to read this have played the game at least once, and heard at least a few of the tracks here. And whether you were aware of it or not, Mitsuda's music contributed greatly to the mood of every single minute of the whole game.Composed of 3 CDs and quite a few songs (I haven't an exact count), all of which are heart-rendering and impressively remarkable, this soundtrack is one I assure you you will not forget. It has everything for every listener -- from fast-paced and energetic (Dancing the Tokage or Termina Home), to slower and more haunting (Dragon God), to purely beautifully composed (Time's Scar), to even some fantastic vocals (Radical Dreamers).This is one of the best videogame soundtracks out there, and surely Mitsuda's best ever. ^_^\n",
      "0 - Buyer beware: This is a self-published book, and if you want to know why--read a few paragraphs! Those 5 star reviews must have been written by Ms. Haddon's family and friends--or perhaps, by herself! I can't imagine anyone reading the whole thing--I spent an evening with the book and a friend and we were in hysterics reading bits and pieces of it to one another. It is most definitely bad enough to be entered into some kind of a \"worst book\" contest. I can't believe Amazon even sells this kind of thing. Maybe I can offer them my 8th grade term paper on \"To Kill a Mockingbird\"--a book I am quite sure Ms. Haddon never heard of. Anyway, unless you are in a mood to send a book to someone as a joke---stay far, far away from this one!\n",
      "1 - Glorious story: I loved Whisper of the wicked saints. The story was amazing and I was pleasantly surprised at the changes in the book. I am not normaly someone who is into romance novels, but the world was raving about this book and so I bought it. I loved it !! This is a brilliant story because it is so true. This book was so wonderful that I have told all of my friends to read it. It is not a typical romance, it is so much more. Not reading this book is a crime, becuase you are missing out on a heart warming story.\n"
     ]
    }
   ],
   "source": [
    "df_train = pd.read_csv(\"dataset/Amazon_Reviews_train.csv\")\n",
    "df_test = pd.read_csv(\"dataset/Amazon_Reviews_test.csv\")\n",
    "\n",
    "for index, row in df_train.iloc[5:8].iterrows():\n",
    "    print(f\"{row['label']} - {row['text']}\")"
   ]
  },
  {
   "cell_type": "code",
   "execution_count": 6,
   "metadata": {},
   "outputs": [
    {
     "name": "stderr",
     "output_type": "stream",
     "text": [
      "[nltk_data] Downloading package stopwords to\n",
      "[nltk_data]     C:\\Users\\fam2064\\AppData\\Roaming\\nltk_data...\n",
      "[nltk_data]   Package stopwords is already up-to-date!\n"
     ]
    }
   ],
   "source": [
    "import nltk\n",
    "from nltk.corpus import stopwords\n",
    "\n",
    "# Download NLTK resources\n",
    "nltk.download('stopwords')\n",
    "\n",
    "# Define stopwords\n",
    "stop_words = set(stopwords.words('english'))\n",
    "\n",
    "def clean_text(text):\n",
    "    # Lowercase the text\n",
    "    text = text.lower()\n",
    "\n",
    "    # Remove punctuation and special characters\n",
    "    text = re.sub(r'[^\\w\\s]', '', text)\n",
    "\n",
    "    # Remove numbers - Sentences may contain numbers which are not useful for our sentiment analysis\n",
    "    text = re.sub(r'\\d+', '', text)\n",
    "\n",
    "    # Remove extra whitespace\n",
    "    text = re.sub(r'\\s+', ' ', text).strip()\n",
    "\n",
    "    # Remove stopwords\n",
    "    text = ' '.join([word for word in text.split() if word not in stop_words])\n",
    "    \n",
    "    return text\n"
   ]
  },
  {
   "cell_type": "code",
   "execution_count": 7,
   "metadata": {},
   "outputs": [
    {
     "name": "stdout",
     "output_type": "stream",
     "text": [
      "1 - absolute masterpiece quite sure actually taking time read played game least heard least tracks whether aware mitsudas music contributed greatly mood every single minute whole gamecomposed cds quite songs havent exact count heartrendering impressively remarkable soundtrack one assure forget everything every listener fastpaced energetic dancing tokage termina home slower haunting dragon god purely beautifully composed times scar even fantastic vocals radical dreamersthis one best videogame soundtracks surely mitsudas best ever _\n",
      "0 - buyer beware selfpublished book want know whyread paragraphs star reviews must written ms haddons family friendsor perhaps cant imagine anyone reading whole thingi spent evening book friend hysterics reading bits pieces one another definitely bad enough entered kind worst book contest cant believe amazon even sells kind thing maybe offer th grade term paper kill mockingbirda book quite sure ms haddon never heard anyway unless mood send book someone jokestay far far away one\n",
      "1 - glorious story loved whisper wicked saints story amazing pleasantly surprised changes book normaly someone romance novels world raving book bought loved brilliant story true book wonderful told friends read typical romance much reading book crime becuase missing heart warming story\n"
     ]
    }
   ],
   "source": [
    "for index, row in df_train.iterrows():\n",
    "    df_train.at[index, 'cleaned_text'] = clean_text(row['text'])\n",
    "\n",
    "for index, row in df_test.iterrows():\n",
    "    df_test.at[index, 'cleaned_text'] = clean_text(row['text'])\n",
    "\n",
    "df_train = df_train.copy()\n",
    "df_test = df_test.copy()\n",
    "df_train.drop('text', axis=1, inplace=True)\n",
    "df_test.drop('text', axis=1, inplace=True)\n",
    "df_train.rename(columns={'cleaned_text': 'text'}, inplace=True)\n",
    "df_test.rename(columns={'cleaned_text': 'text'}, inplace=True)\n",
    "\n",
    "for index, row in df_train.iloc[5:8].iterrows():\n",
    "    print(f\"{row['label']} - {row['text']}\")"
   ]
  },
  {
   "cell_type": "code",
   "execution_count": 8,
   "metadata": {},
   "outputs": [
    {
     "data": {
      "image/png": "[encoded data removed]",
      "text/plain": [
       "<Figure size 600x400 with 1 Axes>"
      ]
     },
     "metadata": {},
     "output_type": "display_data"
    }
   ],
   "source": [
    "# Step 1: Calculate the length of each text\n",
    "df_train[\"text_length\"] = df_train[\"text\"].apply(lambda x: len(x.split()))  # Split by spaces to count words\n",
    "\n",
    "# Step 2: Define the buckets\n",
    "buckets = [0, 20, 40, 60, 80, 100, float('inf')]  # Last bucket is 200+\n",
    "bucket_labels = [\"0-20\", \"21-40\", \"41-60\", \"61-80\", \"81-100\", \"100+\"]\n",
    "\n",
    "# Step 3: Count the number of texts in each bucket\n",
    "df_train[\"bucket\"] = pd.cut(df_train[\"text_length\"], bins=buckets, labels=bucket_labels, right=False)\n",
    "bucket_counts = df_train[\"bucket\"].value_counts().sort_index()\n",
    "\n",
    "# Step 4: Plot the results\n",
    "plt.figure(figsize=(6, 4))\n",
    "plt.bar(bucket_counts.index, bucket_counts.values, color='skyblue')\n",
    "plt.xlabel(\"Text Length (Number of Words)\")\n",
    "plt.ylabel(\"Number of Texts\")\n",
    "plt.title(\"Distribution of Text Lengths in Buckets\")\n",
    "plt.show()"
   ]
  },
  {
   "cell_type": "markdown",
   "metadata": {},
   "source": [
    "## Configurations"
   ]
  },
  {
   "cell_type": "code",
   "execution_count": 9,
   "metadata": {},
   "outputs": [],
   "source": [
    "from types import SimpleNamespace\n",
    "\n",
    "# Create a SimpleNamespace for configurations\n",
    "configs = SimpleNamespace(\n",
    "    max_len=128,          # Maximum sequence length for tokenization  ------ 128\n",
    "    batch_size=32,        # Batch size for training\n",
    "    learning_rate=5e-4,   # Learning rate for optimizer # 1e-3\n",
    "    num_epochs=10,        # Number of training epochs\n",
    "    dropout=0.4,          # Dropout rate for the model\n",
    "    patience=2,           # Patience for early stopping\n",
    "    random_seed=42,       # Random seed for reproducibility\n",
    "    embedding_dim = 128,\n",
    "    hidden_dim = 256,\n",
    "    output_dim = 2,\n",
    "    model_name=\"bert-base-uncased\"  # Pre-trained model name\n",
    ")"
   ]
  },
  {
   "cell_type": "code",
   "execution_count": 10,
   "metadata": {},
   "outputs": [
    {
     "name": "stdout",
     "output_type": "stream",
     "text": [
      "cuda NVIDIA GeForce RTX 2080 Super with Max-Q Design\n"
     ]
    }
   ],
   "source": [
    "device = torch.device(\"cuda\" if torch.cuda.is_available() else \"cpu\")\n",
    "print(device, torch.cuda.get_device_name(0) if torch.cuda.is_available() else \"No GPU found\")"
   ]
  },
  {
   "cell_type": "markdown",
   "metadata": {},
   "source": [
    "## Dataset and DataLoader Creation"
   ]
  },
  {
   "cell_type": "code",
   "execution_count": 11,
   "metadata": {},
   "outputs": [],
   "source": [
    "# Load Tokenizer\n",
    "tokenizer = AutoTokenizer.from_pretrained(configs.model_name)"
   ]
  },
  {
   "cell_type": "code",
   "execution_count": 12,
   "metadata": {},
   "outputs": [],
   "source": [
    "# Custom Dataset\n",
    "class SentimentDataset(Dataset):\n",
    "    def __init__(self, texts, labels, tokenizer, max_len):\n",
    "        self.texts = texts\n",
    "        self.labels = labels\n",
    "        self.tokenizer = tokenizer\n",
    "        self.max_len = max_len\n",
    "    \n",
    "    def __len__(self):\n",
    "        return len(self.texts)\n",
    "    \n",
    "    def __getitem__(self, idx):\n",
    "        text = self.texts[idx]\n",
    "        label = self.labels[idx]\n",
    "        encoding = self.tokenizer(\n",
    "            text,\n",
    "            max_length=self.max_len,\n",
    "            padding='max_length',\n",
    "            truncation=True,\n",
    "            return_tensors='pt'\n",
    "        )\n",
    "        return {\n",
    "            'input_ids': encoding['input_ids'].squeeze(0),\n",
    "            'attention_mask': encoding['attention_mask'].squeeze(0),\n",
    "            'label': torch.tensor(label, dtype=torch.long)\n",
    "        }"
   ]
  },
  {
   "cell_type": "code",
   "execution_count": 13,
   "metadata": {},
   "outputs": [],
   "source": [
    "# Collate Function\n",
    "def collate_fn(batch):\n",
    "    input_ids = torch.stack([item['input_ids'] for item in batch])\n",
    "    attention_mask = torch.stack([item['attention_mask'] for item in batch])\n",
    "    labels = torch.tensor([item['label'] for item in batch], dtype=torch.long)\n",
    "    return input_ids.to(device), attention_mask.to(device), labels.to(device)"
   ]
  },
  {
   "cell_type": "code",
   "execution_count": 14,
   "metadata": {},
   "outputs": [],
   "source": [
    "# Create DataLoaders\n",
    "df_train_texts = df_train['text'].tolist()\n",
    "df_train_labels = df_train['label'].tolist()\n",
    "df_test_texts = df_test['text'].tolist()\n",
    "df_test_labels = df_test['label'].tolist()\n",
    "\n",
    "train_dataset = SentimentDataset(df_train_texts, df_train_labels, tokenizer, configs.max_len)\n",
    "test_dataset = SentimentDataset(df_test_texts, df_test_labels, tokenizer, configs.max_len)\n",
    "\n",
    "train_loader = DataLoader(train_dataset, batch_size=configs.batch_size, shuffle=True, collate_fn=collate_fn)\n",
    "test_loader = DataLoader(test_dataset, batch_size=configs.batch_size, shuffle=False, collate_fn=collate_fn)"
   ]
  },
  {
   "cell_type": "markdown",
   "metadata": {},
   "source": [
    "## LSTM Model Definition"
   ]
  },
  {
   "cell_type": "code",
   "execution_count": 15,
   "metadata": {},
   "outputs": [],
   "source": [
    "# Define the BiLSTM with Attention model\n",
    "class BiLSTMWithAttention(nn.Module):\n",
    "    def __init__(self, embedding_dim, hidden_dim, output_dim, vocab_size, num_layers=2, dropout=configs.dropout):\n",
    "        super(BiLSTMWithAttention, self).__init__()\n",
    "        self.embedding = nn.Embedding(vocab_size, embedding_dim)\n",
    "        self.lstm = nn.LSTM(embedding_dim, hidden_dim, num_layers=num_layers, \n",
    "                             bidirectional=True, batch_first=True, dropout=dropout)\n",
    "        self.attention = nn.Linear(hidden_dim * 2, 1)\n",
    "        self.batch_norm = nn.BatchNorm1d(hidden_dim * 2)\n",
    "        self.fc = nn.Linear(hidden_dim * 2, output_dim)\n",
    "        self.dropout = nn.Dropout(dropout)\n",
    "\n",
    "    def forward(self, x):\n",
    "        embedded = self.embedding(x)\n",
    "        lstm_out, _ = self.lstm(embedded)\n",
    "        attn_weights = torch.softmax(self.attention(lstm_out).squeeze(-1), dim=1)\n",
    "        context = torch.sum(lstm_out * attn_weights.unsqueeze(-1), dim=1)\n",
    "        context = self.batch_norm(context)\n",
    "        output = self.fc(self.dropout(context))\n",
    "        return output"
   ]
  },
  {
   "cell_type": "markdown",
   "metadata": {},
   "source": [
    "## Training and Evaluation"
   ]
  },
  {
   "cell_type": "code",
   "execution_count": 16,
   "metadata": {},
   "outputs": [],
   "source": [
    "# Define training pipeline\n",
    "def train_model(model, train_loader, val_loader, num_epochs=configs.num_epochs, lr=configs.learning_rate, weight_decay=1e-5):\n",
    "    model.to(device)\n",
    "    criterion = nn.CrossEntropyLoss()\n",
    "    optimizer = optim.AdamW(model.parameters(), lr=lr, weight_decay=weight_decay)\n",
    "    scheduler = optim.lr_scheduler.CosineAnnealingLR(optimizer, T_max=num_epochs)\n",
    "    \n",
    "    best_val_acc = 0\n",
    "    best_model_state = None\n",
    "    epochs_without_improvement = 0\n",
    "    \n",
    "    for epoch in range(num_epochs):\n",
    "        model.train()\n",
    "        total_loss, total_correct, total_samples = 0, 0, 0\n",
    "        \n",
    "        # for inputs, masks, labels in train_loader:\n",
    "        for batch in tqdm(train_loader, desc=f'Epoch {epoch + 1}/{num_epochs}'):\n",
    "            inputs, masks, labels = batch\n",
    "            optimizer.zero_grad()\n",
    "            outputs = model(inputs)\n",
    "            loss = criterion(outputs, labels)\n",
    "            loss.backward()\n",
    "            # Clip gradients to a maximum norm (e.g., 1.0) to prevent exploding gradients\n",
    "            torch.nn.utils.clip_grad_norm_(model.parameters(), max_norm=1.0)\n",
    "            optimizer.step()\n",
    "            \n",
    "            total_loss += loss.item() * inputs.size(0)\n",
    "            total_correct += (outputs.argmax(1) == labels).sum().item()\n",
    "            total_samples += inputs.size(0)\n",
    "        \n",
    "        train_loss = total_loss / total_samples\n",
    "        train_accuracy = total_correct / total_samples\n",
    "        \n",
    "        # Validation phase\n",
    "        val_loss, val_accuracy = evaluate_model(model, val_loader, criterion, device)\n",
    "        \n",
    "        print(f'Epoch {epoch+1}: | Train Loss={train_loss:.4f} \\\n",
    "              | Train Acc={train_accuracy:.4f} \\\n",
    "              | Val Acc={val_accuracy:.4f}')\n",
    "        \n",
    "        if val_accuracy > best_val_acc:\n",
    "            best_val_acc = val_accuracy\n",
    "            best_model_state = model.state_dict()\n",
    "            epochs_without_improvement = 0  # Reset counter\n",
    "        else: # Early stopping\n",
    "            epochs_without_improvement += 1\n",
    "            if epochs_without_improvement >= configs.patience:\n",
    "                print(f\"Early stopping triggered. No improvement in validation accuracy for {configs.patience} epochs.\")\n",
    "                break\n",
    "        \n",
    "        scheduler.step()\n",
    "    \n",
    "    # Save best model\n",
    "    if best_model_state:\n",
    "        torch.save(best_model_state, \"best_lstm_model.pth\")\n",
    "        print(\"Best model saved.\")\n",
    "\n",
    "\n",
    "def evaluate_model(model, data_loader, criterion, device):\n",
    "    # Set the model to evaluation mode to disable dropout\n",
    "    model.eval()\n",
    "    total_loss, total_correct, total_samples = 0, 0, 0\n",
    "    \n",
    "    with torch.no_grad():\n",
    "        for inputs, masks, labels in data_loader:\n",
    "            outputs = model(inputs)\n",
    "            loss = criterion(outputs, labels)\n",
    "            total_loss += loss.item() * inputs.size(0)\n",
    "            total_correct += (outputs.argmax(1) == labels).sum().item()\n",
    "            total_samples += inputs.size(0)\n",
    "            \n",
    "    val_loss = total_loss / total_samples\n",
    "    val_accuracy = total_correct / total_samples\n",
    "    return val_loss, val_accuracy"
   ]
  },
  {
   "cell_type": "code",
   "execution_count": 17,
   "metadata": {},
   "outputs": [
    {
     "name": "stderr",
     "output_type": "stream",
     "text": [
      "Epoch 1/10: 100%|██████████| 938/938 [00:48<00:00, 19.44it/s]\n"
     ]
    },
    {
     "name": "stdout",
     "output_type": "stream",
     "text": [
      "Epoch 1: | Train Loss=0.4878               | Train Acc=0.7613               | Val Acc=0.8215\n"
     ]
    },
    {
     "name": "stderr",
     "output_type": "stream",
     "text": [
      "Epoch 2/10: 100%|██████████| 938/938 [00:48<00:00, 19.48it/s]\n"
     ]
    },
    {
     "name": "stdout",
     "output_type": "stream",
     "text": [
      "Epoch 2: | Train Loss=0.3229               | Train Acc=0.8625               | Val Acc=0.8540\n"
     ]
    },
    {
     "name": "stderr",
     "output_type": "stream",
     "text": [
      "Epoch 3/10: 100%|██████████| 938/938 [00:52<00:00, 17.77it/s]\n"
     ]
    },
    {
     "name": "stdout",
     "output_type": "stream",
     "text": [
      "Epoch 3: | Train Loss=0.2473               | Train Acc=0.9011               | Val Acc=0.8622\n"
     ]
    },
    {
     "name": "stderr",
     "output_type": "stream",
     "text": [
      "Epoch 4/10: 100%|██████████| 938/938 [00:53<00:00, 17.50it/s]\n"
     ]
    },
    {
     "name": "stdout",
     "output_type": "stream",
     "text": [
      "Epoch 4: | Train Loss=0.1726               | Train Acc=0.9352               | Val Acc=0.8521\n"
     ]
    },
    {
     "name": "stderr",
     "output_type": "stream",
     "text": [
      "Epoch 5/10: 100%|██████████| 938/938 [00:57<00:00, 16.18it/s]\n"
     ]
    },
    {
     "name": "stdout",
     "output_type": "stream",
     "text": [
      "Epoch 5: | Train Loss=0.1092               | Train Acc=0.9618               | Val Acc=0.8567\n",
      "Early stopping triggered. No improvement in validation accuracy for 2 epochs.\n",
      "Best model saved.\n"
     ]
    }
   ],
   "source": [
    "# Initialize model\n",
    "vocab_size = tokenizer.vocab_size\n",
    "\n",
    "model = BiLSTMWithAttention(configs.embedding_dim, configs.hidden_dim, configs.output_dim, vocab_size).to(device)\n",
    "\n",
    "# Train the model\n",
    "train_model(model, train_loader, test_loader)"
   ]
  },
  {
   "cell_type": "markdown",
   "metadata": {},
   "source": [
    "## Model Loading and Prediction"
   ]
  },
  {
   "cell_type": "code",
   "execution_count": 18,
   "metadata": {},
   "outputs": [],
   "source": [
    "# Load model and predict\n",
    "def predict(model, tokenizer, texts):\n",
    "    model.load_state_dict(torch.load(\"best_lstm_model.pth\"))\n",
    "    model.to(device)\n",
    "    model.eval()\n",
    "    \n",
    "    cleaned_texts = []\n",
    "    for text in texts:\n",
    "        cleaned_texts.append(clean_text(text))\n",
    "\n",
    "    inputs = tokenizer(cleaned_texts, padding=True, truncation=True, max_length=configs.max_len, return_tensors='pt')\n",
    "    inputs = inputs['input_ids'].to(device)\n",
    "    \n",
    "    with torch.no_grad():\n",
    "        outputs = model(inputs)\n",
    "        predictions = torch.argmax(outputs, dim=1).cpu().numpy()\n",
    "    \n",
    "    sentiment_labels = [\"Negative\", \"Positive\"]\n",
    "    return [sentiment_labels[p] for p in predictions]"
   ]
  },
  {
   "cell_type": "code",
   "execution_count": 19,
   "metadata": {},
   "outputs": [
    {
     "name": "stdout",
     "output_type": "stream",
     "text": [
      "['Positive', 'Negative', 'Negative', 'Positive', 'Negative']\n"
     ]
    }
   ],
   "source": [
    "# Example usage\n",
    "sample_texts = [\n",
    "    \"This product is amazing! The quality is outstanding and it exceeded all my expectations. I would definitely recommend it to anyone!\",\n",
    "    \"Terrible product. Broke within a week of purchase. Save your money and look elsewhere.\",\n",
    "    \"It's okay. Not great, not terrible. Does the job but nothing special.\",\n",
    "    \"Absolutely love this! Best purchase I've made all year. The customer service was also excellent.\",\n",
    "    \"Don't waste your time. Poor quality and overpriced. Very disappointed with this purchase.\"\n",
    "]\n",
    "predictions = predict(model, tokenizer, sample_texts)\n",
    "print(predictions)"
   ]
  }
 ],
 "metadata": {
  "kernelspec": {
   "display_name": "venv",
   "language": "python",
   "name": "python3"
  },
  "language_info": {
   "codemirror_mode": {
    "name": "ipython",
    "version": 3
   },
   "file_extension": ".py",
   "mimetype": "text/x-python",
   "name": "python",
   "nbconvert_exporter": "python",
   "pygments_lexer": "ipython3",
   "version": "3.12.0"
  }
 },
 "nbformat": 4,
 "nbformat_minor": 2
}
